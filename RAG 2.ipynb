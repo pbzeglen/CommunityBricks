{
 "cells": [
  {
   "cell_type": "code",
   "execution_count": 0,
   "metadata": {
    "application/vnd.databricks.v1+cell": {
     "cellMetadata": {
      "byteLimit": 2048000,
      "rowLimit": 10000
     },
     "inputWidgets": {},
     "nuid": "53ffecbc-3cc1-4f30-946d-989df6ea64ff",
     "showTitle": false,
     "tableResultSettingsMap": {},
     "title": ""
    }
   },
   "outputs": [],
   "source": [
    "%pip install PyPDF2 langchain transformers sentencepiece\n",
    "\n",
    "from langchain.text_splitter import RecursiveCharacterTextSplitter\n",
    "from transformers import LlamaTokenizer\n",
    "from pyspark.sql.functions import col, explode\n",
    "import pandas as pd\n",
    "\n",
    "# Function to split text into chunks\n",
    "def split_text_into_chunks(text: str, chunk_size: int, chunk_overlap: int) -> list:\n",
    "    splitter = RecursiveCharacterTextSplitter(\n",
    "        chunk_size=chunk_size,\n",
    "        chunk_overlap=chunk_overlap\n",
    "    )\n",
    "    return splitter.split_text(text)"
   ]
  },
  {
   "cell_type": "code",
   "execution_count": 0,
   "metadata": {
    "application/vnd.databricks.v1+cell": {
     "cellMetadata": {
      "byteLimit": 2048000,
      "rowLimit": 10000
     },
     "inputWidgets": {},
     "nuid": "cf004e27-a3a9-4c6a-bfa6-b3907334d72a",
     "showTitle": false,
     "tableResultSettingsMap": {},
     "title": ""
    }
   },
   "outputs": [],
   "source": [
    "airbnb_raw = spark.sql(\"\"\"\n",
    "                       select * from sample_data.bright_initiative.airbnb_properties_information\n",
    "                       where lower(location) like '%united states%'\n",
    "                        and lower(location) like '%california%'\n",
    "                       \"\"\")\n",
    "\n",
    "display(airbnb_raw)"
   ]
  },
  {
   "cell_type": "code",
   "execution_count": 0,
   "metadata": {
    "application/vnd.databricks.v1+cell": {
     "cellMetadata": {
      "byteLimit": 2048000,
      "rowLimit": 10000
     },
     "inputWidgets": {},
     "nuid": "8a78ce48-07a4-41f4-a1b1-1e2a1aece904",
     "showTitle": false,
     "tableResultSettingsMap": {},
     "title": ""
    }
   },
   "outputs": [],
   "source": [
    "%python\n",
    "from pyspark.sql.functions import udf, col\n",
    "from pyspark.sql.types import ArrayType, StringType\n",
    "\n",
    "# Define a function to split text into chunks with overlap\n",
    "def split_text_into_chunks(text, chunk_size=500, overlap=50):\n",
    "    if text is None:\n",
    "        return []\n",
    "    chunks = []\n",
    "    for i in range(0, len(text), chunk_size - overlap):\n",
    "        chunks.append(text[i:i + chunk_size])\n",
    "    return chunks\n",
    "\n",
    "# Register the UDF\n",
    "split_chunks_udf = udf(lambda text: split_text_into_chunks(text, 500, 50), ArrayType(StringType()))\n",
    "\n",
    "# Apply the UDF to the combined_description column\n",
    "airbnb_chunked = airbnb_raw.withColumn(\n",
    "    \"description_chunks\",\n",
    "    split_chunks_udf(col(\"description\"))\n",
    ")\n",
    "\n",
    "display(airbnb_chunked)"
   ]
  },
  {
   "cell_type": "code",
   "execution_count": 0,
   "metadata": {
    "application/vnd.databricks.v1+cell": {
     "cellMetadata": {
      "byteLimit": 2048000,
      "rowLimit": 10000
     },
     "inputWidgets": {},
     "nuid": "5e1c8b1e-43ea-45f8-977a-16a68a5e115a",
     "showTitle": false,
     "tableResultSettingsMap": {},
     "title": ""
    }
   },
   "outputs": [],
   "source": [
    "from pyspark.sql.functions import explode\n",
    "\n",
    "# Explode the chunked_description column\n",
    "airbnb_exploded = airbnb_chunked.withColumn(\n",
    "    \"exploded_chunk\",\n",
    "    explode(col(\"description_chunks\"))\n",
    ")"
   ]
  },
  {
   "cell_type": "code",
   "execution_count": 0,
   "metadata": {
    "application/vnd.databricks.v1+cell": {
     "cellMetadata": {
      "byteLimit": 2048000,
      "rowLimit": 10000
     },
     "inputWidgets": {},
     "nuid": "65588c01-5ac0-40e2-a742-8fd7133ee086",
     "showTitle": false,
     "tableResultSettingsMap": {},
     "title": ""
    }
   },
   "outputs": [],
   "source": [
    "display(airbnb_exploded)"
   ]
  },
  {
   "cell_type": "code",
   "execution_count": 0,
   "metadata": {
    "application/vnd.databricks.v1+cell": {
     "cellMetadata": {
      "byteLimit": 2048000,
      "rowLimit": 10000
     },
     "inputWidgets": {},
     "nuid": "0785237e-daa0-4f49-ab1d-fefa078f95be",
     "showTitle": false,
     "tableResultSettingsMap": {},
     "title": ""
    }
   },
   "outputs": [],
   "source": [
    "%python\n",
    "# Limit the DataFrame to the first 10,000 rows\n",
    "airbnb_exploded_limited = airbnb_exploded.limit(10000)\n",
    "\n",
    "# Write the limited DataFrame to the Unity Catalog table\n",
    "airbnb_exploded_limited.write \\\n",
    "    .format(\"delta\")\\\n",
    "    .mode(\"overwrite\")\\\n",
    "    .saveAsTable(\"access_assist.curated.airbnb_exploded3\")"
   ]
  },
  {
   "cell_type": "code",
   "execution_count": 0,
   "metadata": {
    "application/vnd.databricks.v1+cell": {
     "cellMetadata": {
      "byteLimit": 2048000,
      "implicitDf": true,
      "rowLimit": 10000
     },
     "inputWidgets": {},
     "nuid": "dcff9528-a044-4c72-a39c-ed40ffbf88c5",
     "showTitle": false,
     "tableResultSettingsMap": {},
     "title": ""
    }
   },
   "outputs": [],
   "source": [
    "%sql\n",
    "ALTER TABLE `access_assist`.`curated`.`airbnb_exploded3` SET TBLPROPERTIES (delta.enableChangeDataFeed = true)"
   ]
  },
  {
   "cell_type": "code",
   "execution_count": 0,
   "metadata": {
    "application/vnd.databricks.v1+cell": {
     "cellMetadata": {
      "byteLimit": 2048000,
      "rowLimit": 10000
     },
     "inputWidgets": {},
     "nuid": "7fec3c22-8c24-4333-ba41-02975a010614",
     "showTitle": false,
     "tableResultSettingsMap": {},
     "title": ""
    }
   },
   "outputs": [],
   "source": [
    "%pip install databricks-vectorsearch\n",
    "dbutils.library.restartPython()\n",
    "\n",
    "from databricks.vector_search.client import VectorSearchClient\n",
    "from langchain.vectorstores import DatabricksVectorSearch\n",
    "from langchain.embeddings import DatabricksEmbeddings\n",
    "\n",
    "vs_endpoint_name = \"community_bricks_endpoint\"\n",
    "vs_index_full_name = \"access_assist.curated.airbnb_vc_index\"\n",
    "\n",
    "embedding_model = DatabricksEmbeddings(endpoint=\"databricks-bge-large-en\")\n",
    "# print(f\"Test embedding: {embedding_model.embed_query('What is GenerativeAI?')[:20]}\")\n",
    "\n",
    "def get_retriever(persist_dir: str = None):\n",
    "    vsc = VectorSearchClient()\n",
    "    vs_index = vsc.get_index(vs_endpoint_name, vs_index_full_name)\n",
    "    vectorstore = DatabricksVectorSearch(\n",
    "        vs_index, text_column=\"exploded_chunk\", embedding=embedding_model\n",
    "    )\n",
    "    return vectorstore.as_retriever(search_kwargs={\"k\": 5})\n",
    "\n",
    "vectorstore = get_retriever()\n",
    "similar_documents = vectorstore.invoke(\"What are some accessible hotels?\")\n",
    "print(f\"Relevant documents: {similar_documents}\")"
   ]
  },
  {
   "cell_type": "code",
   "execution_count": 0,
   "metadata": {
    "application/vnd.databricks.v1+cell": {
     "cellMetadata": {
      "byteLimit": 2048000,
      "rowLimit": 10000
     },
     "inputWidgets": {},
     "nuid": "61d7dd79-08d3-475a-be8a-faa42f750483",
     "showTitle": false,
     "tableResultSettingsMap": {},
     "title": ""
    }
   },
   "outputs": [],
   "source": [
    "%python\n",
    "%pip install databricks-vectorsearch langchain-community\n",
    "dbutils.library.restartPython()\n",
    "\n",
    "from databricks.vector_search.client import VectorSearchClient\n",
    "from langchain.vectorstores import DatabricksVectorSearch\n",
    "from langchain.embeddings import DatabricksEmbeddings\n",
    "\n",
    "vs_endpoint_name = \"community_bricks_endpoint\"\n",
    "vs_index_full_name = \"access_assist.curated.airbnb_vc_index\"\n",
    "\n",
    "embedding_model = DatabricksEmbeddings(endpoint=\"databricks-bge-large-en\")\n",
    "# print(f\"Test embedding: {embedding_model.embed_query('What is GenerativeAI?')[:20]}\")\n",
    "\n",
    "def get_retriever(persist_dir: str = None):\n",
    "    vsc = VectorSearchClient()\n",
    "    vs_index = vsc.get_index(vs_endpoint_name, vs_index_full_name)\n",
    "    vectorstore = DatabricksVectorSearch(\n",
    "        vs_index, text_column=\"exploded_chunk\", embedding=embedding_model\n",
    "    )\n",
    "    return vectorstore.as_retriever(search_kwargs={\"k\": 5})\n",
    "\n",
    "vectorstore = get_retriever()\n",
    "similar_documents = vectorstore.invoke(\"What are some accessible hotels?\")\n",
    "print(f\"Relevant documents: {similar_documents}\")"
   ]
  },
  {
   "cell_type": "code",
   "execution_count": 0,
   "metadata": {
    "application/vnd.databricks.v1+cell": {
     "cellMetadata": {
      "byteLimit": 2048000,
      "rowLimit": 10000
     },
     "inputWidgets": {},
     "nuid": "190f48ea-5eb6-4164-a5c3-9ce565798f4c",
     "showTitle": false,
     "tableResultSettingsMap": {},
     "title": ""
    }
   },
   "outputs": [],
   "source": [
    "%pip install --upgrade databricks-langchain langchain-community langchain databricks-sql-connector\n",
    "\n",
    "from langchain.chat_models import ChatDatabricks\n",
    "\n",
    "chat_model = ChatDatabricks(endpoint=\"databricks-llama-4-maverick\", max_tokens=300)\n",
    "print(f\"Test chat model: {chat_model.invoke('What is Generative AI?')}\")"
   ]
  },
  {
   "cell_type": "code",
   "execution_count": 0,
   "metadata": {
    "application/vnd.databricks.v1+cell": {
     "cellMetadata": {
      "byteLimit": 2048000,
      "rowLimit": 10000
     },
     "inputWidgets": {},
     "nuid": "679aa9d5-a72c-41d6-bd23-0ab2a38779a4",
     "showTitle": false,
     "tableResultSettingsMap": {},
     "title": ""
    }
   },
   "outputs": [],
   "source": [
    "from langchain.chains import RetrievalQA\n",
    "from langchain.prompts import PromptTemplate\n",
    "from langchain.chat_models import ChatDatabricks\n",
    "from databricks.vector_search.client import VectorSearchClient\n",
    "vs_endpoint_name = \"community_bricks_endpoint\"\n",
    "vs_index_full_name = \"access_assist.curated.airbnb_vc_index\"\n",
    "\n",
    "from databricks.vector_search.client import VectorSearchClient\n",
    "from langchain.vectorstores import DatabricksVectorSearch\n",
    "from langchain.embeddings import DatabricksEmbeddings\n",
    "embedding_model = DatabricksEmbeddings(endpoint=\"databricks-bge-large-en\")\n",
    "\n",
    "def get_retriever(persist_dir: str = None):\n",
    "    vsc = VectorSearchClient()\n",
    "    vs_index = vsc.get_index(vs_endpoint_name, vs_index_full_name)\n",
    "    vectorstore = DatabricksVectorSearch(\n",
    "        vs_index, text_column=\"exploded_chunk\", embedding=embedding_model\n",
    "    )\n",
    "    return vectorstore.as_retriever(search_kwargs={\"k\": 5})\n",
    "\n",
    "chat_model = ChatDatabricks(endpoint=\"databricks-llama-4-maverick\", max_tokens=300)\n",
    "\n",
    "TEMPLATE = \"\"\"You are an assistant trying to find accessible places to stay. Use the following pieces of context to answer the question at the end. If you don't know the answer, just say that you don't know\n",
    "\n",
    "<context>\n",
    "{context}\n",
    "</context>\n",
    "\n",
    "Question: {question}\n",
    "\n",
    "Answer:\n",
    "\"\"\"\n",
    "\n",
    "prompt = PromptTemplate(\n",
    "    template=TEMPLATE,\n",
    "    input_variables=[\"context\", \"question\"]\n",
    ")\n",
    "\n",
    "chain = RetrievalQA.from_chain_type(\n",
    "    llm=chat_model,\n",
    "    chain_type=\"stuff\",\n",
    "    retriever=get_retriever(),\n",
    "    chain_type_kwargs={\"prompt\": prompt},\n",
    "    return_source_documents=True\n",
    ")"
   ]
  },
  {
   "cell_type": "code",
   "execution_count": 0,
   "metadata": {
    "application/vnd.databricks.v1+cell": {
     "cellMetadata": {
      "byteLimit": 2048000,
      "rowLimit": 10000
     },
     "inputWidgets": {},
     "nuid": "9b31902d-d639-413e-b924-6b8d38a9e4ac",
     "showTitle": false,
     "tableResultSettingsMap": {},
     "title": ""
    }
   },
   "outputs": [],
   "source": [
    "question = {\"query\": \"Find me an accessible hotel via wheelchair\"}\n",
    "answer = chain.invoke(question)\n",
    "print(answer)"
   ]
  }
 ],
 "metadata": {
  "application/vnd.databricks.v1+notebook": {
   "computePreferences": null,
   "dashboards": [],
   "environmentMetadata": {
    "base_environment": "",
    "environment_version": "2"
   },
   "inputWidgetPreferences": null,
   "language": "python",
   "notebookMetadata": {
    "mostRecentlyExecutedCommandWithImplicitDF": {
     "commandId": 4868011403765248,
     "dataframes": [
      "_sqldf"
     ]
    },
    "pythonIndentUnit": 4
   },
   "notebookName": "RAG 2",
   "widgets": {}
  },
  "language_info": {
   "name": "python"
  }
 },
 "nbformat": 4,
 "nbformat_minor": 0
}
